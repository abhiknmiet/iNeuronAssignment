{
 "cells": [
  {
   "cell_type": "markdown",
   "id": "2932b131",
   "metadata": {},
   "source": [
    "1. Ans: Two values of boolean data types are True and False"
   ]
  },
  {
   "cell_type": "markdown",
   "id": "57c046d5",
   "metadata": {},
   "source": [
    "2. Ans: Three different type of Boolean operators are \"and\", \"not\" ,\"or\""
   ]
  },
  {
   "cell_type": "markdown",
   "id": "b39cccdf",
   "metadata": {},
   "source": [
    "3. Ans: not Boolean Operator Truth table:\n",
    "        A              not A\n",
    "       -----------------------\n",
    "       True            False\n",
    "       False           True\n",
    "       \n",
    "       \n",
    "       and Boolean Operator Truth table:\n",
    "       \n",
    "       A           B         A and B\n",
    "       ------------------------------\n",
    "       True        True        True\n",
    "       False        True        False\n",
    "       True         False       False\n",
    "       False        False       False\n",
    "       \n",
    "       or operator Truth table:\n",
    "       \n",
    "       A           B           A or B\n",
    "       -------------------------------\n",
    "       True        True        True\n",
    "       False       True        True\n",
    "       True        False       True\n",
    "       False       False       False\n",
    "       \n",
    "       \n",
    "       \n",
    "       "
   ]
  },
  {
   "cell_type": "markdown",
   "id": "948f704a",
   "metadata": {},
   "source": [
    "4. Ans: (5 > 4) and (3 == 5)   ---> False\n",
    "         not (5 > 4)----> False\n",
    "        (5 > 4) or (3 == 5)----> True\n",
    "        not ((5 > 4) or (3 == 5))----> False\n",
    "        (True and True) and (True == False)---> False\n",
    "        (not False) or (not True)---->True\n",
    "\n",
    "         "
   ]
  },
  {
   "cell_type": "markdown",
   "id": "bb147c23",
   "metadata": {},
   "source": [
    "5. Ans: Six Comparison Operators:\n",
    "        <,>,<=,>=,==,!="
   ]
  },
  {
   "cell_type": "markdown",
   "id": "722eb4e3",
   "metadata": {},
   "source": [
    "6. Ans: Assignment operators:: a=5 , a+=5\n",
    "        Equal TO opearators: ==,  a==b\n",
    "        \n",
    "        "
   ]
  },
  {
   "cell_type": "markdown",
   "id": "d6cc2d0f",
   "metadata": {},
   "source": [
    "7. Ans: Block 1: if spam == 10:\n",
    "        Block 2: if spam > 5:\n",
    "        Block 3: else:\n",
    "        "
   ]
  },
  {
   "cell_type": "markdown",
   "id": "f6b9ca15",
   "metadata": {},
   "source": [
    "8. Ans: if spam==1:\n",
    "           print(\"Hello\")\n",
    "        if spam==2:\n",
    "           print(\"Howdy\")\n",
    "        else:\n",
    "        print(\"Greetings!\")"
   ]
  },
  {
   "cell_type": "markdown",
   "id": "6ee8a823",
   "metadata": {},
   "source": [
    "9. Ans: Cntrl+C"
   ]
  },
  {
   "cell_type": "markdown",
   "id": "9368122c",
   "metadata": {},
   "source": [
    "10. Ans: When the break statement comes it terminates the current loop execution and pass the control to the next loop.\n",
    "         WHen the continue keyword comes, it skips the current iteration and executes the next iteration."
   ]
  },
  {
   "cell_type": "markdown",
   "id": "31b422c2",
   "metadata": {},
   "source": [
    "11. Ans: there is not difference between range(10), range(0, 10), and range(0, 10, 1)\n",
    "         because in every range function start value is from 0 and stop is 10 and step is 1."
   ]
  },
  {
   "cell_type": "markdown",
   "id": "d9a8f9e5",
   "metadata": {},
   "source": [
    "12. Ans: for i in range(1,11):\n",
    "    print(i)\n",
    "    \n",
    "    i = 1\n",
    "    while(i<=10):\n",
    "    print(i)\n",
    "    i += 1"
   ]
  },
  {
   "cell_type": "code",
   "execution_count": null,
   "id": "1e733d23",
   "metadata": {},
   "outputs": [],
   "source": [
    "13. Ans: spam.bacon() "
   ]
  }
 ],
 "metadata": {
  "kernelspec": {
   "display_name": "Python 3",
   "language": "python",
   "name": "python3"
  },
  "language_info": {
   "codemirror_mode": {
    "name": "ipython",
    "version": 3
   },
   "file_extension": ".py",
   "mimetype": "text/x-python",
   "name": "python",
   "nbconvert_exporter": "python",
   "pygments_lexer": "ipython3",
   "version": "3.8.8"
  }
 },
 "nbformat": 4,
 "nbformat_minor": 5
}
