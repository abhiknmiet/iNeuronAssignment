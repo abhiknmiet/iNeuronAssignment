{
 "cells": [
  {
   "cell_type": "code",
   "execution_count": null,
   "id": "fa606618",
   "metadata": {},
   "outputs": [],
   "source": [
    "1. Ans::## values :'hello',-87.8,6"
   ]
  },
  {
   "cell_type": "code",
   "execution_count": null,
   "id": "cc267624",
   "metadata": {},
   "outputs": [],
   "source": []
  },
  {
   "cell_type": "code",
   "execution_count": null,
   "id": "5f7ab6a5",
   "metadata": {},
   "outputs": [],
   "source": [
    "##Expressions : * ,- ,/ ,+"
   ]
  },
  {
   "cell_type": "markdown",
   "id": "c19bc87f",
   "metadata": {},
   "source": [
    "2. Ans:: Python variable is used to store data values.\n",
    "         String is type of information to be stored in variable."
   ]
  },
  {
   "cell_type": "markdown",
   "id": "fb8cf0bd",
   "metadata": {},
   "source": [
    "3. Ans: Data types are those type of data which are going to be stored.\n",
    "         a. Numeric Types: int, float,complex\n",
    "         b.Text Type: str\n",
    "         c.Boolean Type : bool"
   ]
  },
  {
   "cell_type": "markdown",
   "id": "869ec8e6",
   "metadata": {},
   "source": [
    "4. Ans: An Expression is a combination of values , variables ,operators.\n",
    "        It is evaluated by the Python interpreter and display the results."
   ]
  },
  {
   "cell_type": "markdown",
   "id": "df5dfda5",
   "metadata": {},
   "source": [
    "5. Ans: An Expression is a combination of values , variables ,operators.\n",
    "        A statement is an instruction that the Python interpreter can execute.\n",
    "        i.e if statements and import statements"
   ]
  },
  {
   "cell_type": "code",
   "execution_count": 1,
   "id": "7ac7367b",
   "metadata": {},
   "outputs": [],
   "source": [
    "bacon = 22"
   ]
  },
  {
   "cell_type": "code",
   "execution_count": 2,
   "id": "a8f889fc",
   "metadata": {},
   "outputs": [
    {
     "data": {
      "text/plain": [
       "23"
      ]
     },
     "execution_count": 2,
     "metadata": {},
     "output_type": "execute_result"
    }
   ],
   "source": [
    "bacon+1"
   ]
  },
  {
   "cell_type": "markdown",
   "id": "ae66f2ad",
   "metadata": {},
   "source": [
    "6. Ans: 23"
   ]
  },
  {
   "cell_type": "markdown",
   "id": "bd79084f",
   "metadata": {},
   "source": [
    "7. Ans: 'spamspamspam'\n",
    "        'spamspamspam'\n"
   ]
  },
  {
   "cell_type": "markdown",
   "id": "d7bbe52f",
   "metadata": {},
   "source": [
    "8. Variable name should start with the alphabet or underscore but can contain [0-9]\n",
    "   so, eggs is valid variable name but not 100."
   ]
  },
  {
   "cell_type": "markdown",
   "id": "a4425361",
   "metadata": {},
   "source": [
    "9. Ans: For integer--> int()\n",
    "        For Float--->float()\n",
    "        For String---> upper(), lower()"
   ]
  },
  {
   "cell_type": "markdown",
   "id": "7167a9eb",
   "metadata": {},
   "source": [
    "'I have eaten '+ 99 + 'burritos.'"
   ]
  },
  {
   "cell_type": "markdown",
   "id": "5eb700c7",
   "metadata": {},
   "source": [
    "10. Ans: string can not be concatenate with int\n",
    "        Fix::: 'I have eaten '+ '99' + 'burritos.'"
   ]
  }
 ],
 "metadata": {
  "kernelspec": {
   "display_name": "Python 3",
   "language": "python",
   "name": "python3"
  },
  "language_info": {
   "codemirror_mode": {
    "name": "ipython",
    "version": 3
   },
   "file_extension": ".py",
   "mimetype": "text/x-python",
   "name": "python",
   "nbconvert_exporter": "python",
   "pygments_lexer": "ipython3",
   "version": "3.8.8"
  }
 },
 "nbformat": 4,
 "nbformat_minor": 5
}
