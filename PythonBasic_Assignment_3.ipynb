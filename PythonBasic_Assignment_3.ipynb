{
 "cells": [
  {
   "cell_type": "markdown",
   "id": "5438ad00",
   "metadata": {},
   "source": [
    "1. Ans:Function reduces the duplicate code. This makes programs shorter and easy to read and update."
   ]
  },
  {
   "cell_type": "markdown",
   "id": "bf856ca9",
   "metadata": {},
   "source": [
    "2. Ans:The code in function run when it is called."
   ]
  },
  {
   "cell_type": "markdown",
   "id": "f5e5f9c3",
   "metadata": {},
   "source": [
    "3. Ans: def create the function."
   ]
  },
  {
   "cell_type": "markdown",
   "id": "384aa64f",
   "metadata": {},
   "source": [
    "4. Ans: A function is the def statement and the code in def.\n",
    "        A function call is that exeute the program statement and return the executed value."
   ]
  },
  {
   "cell_type": "markdown",
   "id": "4115290c",
   "metadata": {},
   "source": [
    "5. Ans: one global scope and local scope "
   ]
  },
  {
   "cell_type": "markdown",
   "id": "5899d0bd",
   "metadata": {},
   "source": [
    "6. Ans: variables are forgotten "
   ]
  },
  {
   "cell_type": "markdown",
   "id": "3b247b7e",
   "metadata": {},
   "source": [
    "7. Ans: A return value is what function evaluates. return value can be used as expression. "
   ]
  },
  {
   "cell_type": "markdown",
   "id": "00e6093b",
   "metadata": {},
   "source": [
    "8. Ans: None"
   ]
  },
  {
   "cell_type": "markdown",
   "id": "5cb8621b",
   "metadata": {},
   "source": [
    "9. Ans: global keyword is used for that"
   ]
  },
  {
   "cell_type": "markdown",
   "id": "2ec7c04f",
   "metadata": {},
   "source": [
    "10. Ans: NoneType"
   ]
  },
  {
   "cell_type": "markdown",
   "id": "276a08e4",
   "metadata": {},
   "source": [
    "11. Ans: import statement imports a module name \"areallyourpetsnamederic\""
   ]
  },
  {
   "cell_type": "markdown",
   "id": "6ed8c15e",
   "metadata": {},
   "source": [
    "12. Ans: spam.bacon()"
   ]
  },
  {
   "cell_type": "markdown",
   "id": "4a36d174",
   "metadata": {},
   "source": [
    "13. Ans: put the line of code in try clause"
   ]
  },
  {
   "cell_type": "markdown",
   "id": "3e37fd72",
   "metadata": {},
   "source": [
    "14. Ans: the code which will cause error will go into try clause\n",
    "         and the code after execution error happens goes into except clause"
   ]
  }
 ],
 "metadata": {
  "kernelspec": {
   "display_name": "Python 3",
   "language": "python",
   "name": "python3"
  },
  "language_info": {
   "codemirror_mode": {
    "name": "ipython",
    "version": 3
   },
   "file_extension": ".py",
   "mimetype": "text/x-python",
   "name": "python",
   "nbconvert_exporter": "python",
   "pygments_lexer": "ipython3",
   "version": "3.8.8"
  }
 },
 "nbformat": 4,
 "nbformat_minor": 5
}
